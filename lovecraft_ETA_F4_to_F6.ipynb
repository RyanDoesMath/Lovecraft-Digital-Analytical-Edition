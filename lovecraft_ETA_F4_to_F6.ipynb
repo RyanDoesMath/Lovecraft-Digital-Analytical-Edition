{
 "cells": [
  {
   "cell_type": "code",
   "execution_count": null,
   "id": "21511500-dad8-48e8-a51e-eec09bb10a1b",
   "metadata": {},
   "outputs": [],
   "source": []
  }
 ],
 "metadata": {
  "kernelspec": {
   "display_name": "Python 3 (ipykernel)",
   "language": "python",
   "name": "python3"
  },
  "language_info": {
   "codemirror_mode": {
    "name": "ipython",
    "version": 3
   },
   "file_extension": ".py",
   "mimetype": "text/x-python",
   "name": "python",
   "nbconvert_exporter": "python",
   "pygments_lexer": "ipython3",
   "version": "3.8.8"
  }
 },
 "nbformat": 4,
 "nbformat_minor": 5
}
